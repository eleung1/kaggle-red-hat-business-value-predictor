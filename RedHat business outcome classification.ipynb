{
 "cells": [
  {
   "cell_type": "code",
   "execution_count": 1,
   "metadata": {
    "collapsed": true
   },
   "outputs": [],
   "source": [
    "import pandas as pd"
   ]
  },
  {
   "cell_type": "markdown",
   "metadata": {},
   "source": [
    "# Examine people.csv"
   ]
  },
  {
   "cell_type": "code",
   "execution_count": 2,
   "metadata": {
    "collapsed": false
   },
   "outputs": [
    {
     "data": {
      "text/html": [
       "<div>\n",
       "<table border=\"1\" class=\"dataframe\">\n",
       "  <thead>\n",
       "    <tr style=\"text-align: right;\">\n",
       "      <th></th>\n",
       "      <th>people_id</th>\n",
       "      <th>char_1</th>\n",
       "      <th>group_1</th>\n",
       "      <th>char_2</th>\n",
       "      <th>date</th>\n",
       "      <th>char_3</th>\n",
       "      <th>char_4</th>\n",
       "      <th>char_5</th>\n",
       "      <th>char_6</th>\n",
       "      <th>char_7</th>\n",
       "      <th>...</th>\n",
       "      <th>char_29</th>\n",
       "      <th>char_30</th>\n",
       "      <th>char_31</th>\n",
       "      <th>char_32</th>\n",
       "      <th>char_33</th>\n",
       "      <th>char_34</th>\n",
       "      <th>char_35</th>\n",
       "      <th>char_36</th>\n",
       "      <th>char_37</th>\n",
       "      <th>char_38</th>\n",
       "    </tr>\n",
       "  </thead>\n",
       "  <tbody>\n",
       "    <tr>\n",
       "      <th>0</th>\n",
       "      <td>ppl_100</td>\n",
       "      <td>type 2</td>\n",
       "      <td>group 17304</td>\n",
       "      <td>type 2</td>\n",
       "      <td>2021-06-29</td>\n",
       "      <td>type 5</td>\n",
       "      <td>type 5</td>\n",
       "      <td>type 5</td>\n",
       "      <td>type 3</td>\n",
       "      <td>type 11</td>\n",
       "      <td>...</td>\n",
       "      <td>False</td>\n",
       "      <td>True</td>\n",
       "      <td>True</td>\n",
       "      <td>False</td>\n",
       "      <td>False</td>\n",
       "      <td>True</td>\n",
       "      <td>True</td>\n",
       "      <td>True</td>\n",
       "      <td>False</td>\n",
       "      <td>36</td>\n",
       "    </tr>\n",
       "    <tr>\n",
       "      <th>1</th>\n",
       "      <td>ppl_100002</td>\n",
       "      <td>type 2</td>\n",
       "      <td>group 8688</td>\n",
       "      <td>type 3</td>\n",
       "      <td>2021-01-06</td>\n",
       "      <td>type 28</td>\n",
       "      <td>type 9</td>\n",
       "      <td>type 5</td>\n",
       "      <td>type 3</td>\n",
       "      <td>type 11</td>\n",
       "      <td>...</td>\n",
       "      <td>False</td>\n",
       "      <td>True</td>\n",
       "      <td>True</td>\n",
       "      <td>True</td>\n",
       "      <td>True</td>\n",
       "      <td>True</td>\n",
       "      <td>True</td>\n",
       "      <td>True</td>\n",
       "      <td>False</td>\n",
       "      <td>76</td>\n",
       "    </tr>\n",
       "    <tr>\n",
       "      <th>2</th>\n",
       "      <td>ppl_100003</td>\n",
       "      <td>type 2</td>\n",
       "      <td>group 33592</td>\n",
       "      <td>type 3</td>\n",
       "      <td>2022-06-10</td>\n",
       "      <td>type 4</td>\n",
       "      <td>type 8</td>\n",
       "      <td>type 5</td>\n",
       "      <td>type 2</td>\n",
       "      <td>type 5</td>\n",
       "      <td>...</td>\n",
       "      <td>False</td>\n",
       "      <td>False</td>\n",
       "      <td>True</td>\n",
       "      <td>True</td>\n",
       "      <td>True</td>\n",
       "      <td>True</td>\n",
       "      <td>False</td>\n",
       "      <td>True</td>\n",
       "      <td>True</td>\n",
       "      <td>99</td>\n",
       "    </tr>\n",
       "    <tr>\n",
       "      <th>3</th>\n",
       "      <td>ppl_100004</td>\n",
       "      <td>type 2</td>\n",
       "      <td>group 22593</td>\n",
       "      <td>type 3</td>\n",
       "      <td>2022-07-20</td>\n",
       "      <td>type 40</td>\n",
       "      <td>type 25</td>\n",
       "      <td>type 9</td>\n",
       "      <td>type 4</td>\n",
       "      <td>type 16</td>\n",
       "      <td>...</td>\n",
       "      <td>True</td>\n",
       "      <td>True</td>\n",
       "      <td>True</td>\n",
       "      <td>True</td>\n",
       "      <td>True</td>\n",
       "      <td>True</td>\n",
       "      <td>True</td>\n",
       "      <td>True</td>\n",
       "      <td>True</td>\n",
       "      <td>76</td>\n",
       "    </tr>\n",
       "    <tr>\n",
       "      <th>4</th>\n",
       "      <td>ppl_100006</td>\n",
       "      <td>type 2</td>\n",
       "      <td>group 6534</td>\n",
       "      <td>type 3</td>\n",
       "      <td>2022-07-27</td>\n",
       "      <td>type 40</td>\n",
       "      <td>type 25</td>\n",
       "      <td>type 9</td>\n",
       "      <td>type 3</td>\n",
       "      <td>type 8</td>\n",
       "      <td>...</td>\n",
       "      <td>False</td>\n",
       "      <td>False</td>\n",
       "      <td>True</td>\n",
       "      <td>False</td>\n",
       "      <td>False</td>\n",
       "      <td>False</td>\n",
       "      <td>True</td>\n",
       "      <td>True</td>\n",
       "      <td>False</td>\n",
       "      <td>84</td>\n",
       "    </tr>\n",
       "  </tbody>\n",
       "</table>\n",
       "<p>5 rows × 41 columns</p>\n",
       "</div>"
      ],
      "text/plain": [
       "    people_id  char_1      group_1  char_2        date   char_3   char_4  \\\n",
       "0     ppl_100  type 2  group 17304  type 2  2021-06-29   type 5   type 5   \n",
       "1  ppl_100002  type 2   group 8688  type 3  2021-01-06  type 28   type 9   \n",
       "2  ppl_100003  type 2  group 33592  type 3  2022-06-10   type 4   type 8   \n",
       "3  ppl_100004  type 2  group 22593  type 3  2022-07-20  type 40  type 25   \n",
       "4  ppl_100006  type 2   group 6534  type 3  2022-07-27  type 40  type 25   \n",
       "\n",
       "   char_5  char_6   char_7   ...   char_29 char_30 char_31 char_32 char_33  \\\n",
       "0  type 5  type 3  type 11   ...     False    True    True   False   False   \n",
       "1  type 5  type 3  type 11   ...     False    True    True    True    True   \n",
       "2  type 5  type 2   type 5   ...     False   False    True    True    True   \n",
       "3  type 9  type 4  type 16   ...      True    True    True    True    True   \n",
       "4  type 9  type 3   type 8   ...     False   False    True   False   False   \n",
       "\n",
       "  char_34 char_35 char_36 char_37 char_38  \n",
       "0    True    True    True   False      36  \n",
       "1    True    True    True   False      76  \n",
       "2    True   False    True    True      99  \n",
       "3    True    True    True    True      76  \n",
       "4   False    True    True   False      84  \n",
       "\n",
       "[5 rows x 41 columns]"
      ]
     },
     "execution_count": 2,
     "metadata": {},
     "output_type": "execute_result"
    }
   ],
   "source": [
    "df_people = pd.read_csv('./data/people.csv', header=0)\n",
    "df_people.head(5)"
   ]
  },
  {
   "cell_type": "code",
   "execution_count": 3,
   "metadata": {
    "collapsed": false
   },
   "outputs": [
    {
     "data": {
      "text/plain": [
       "people_id    object\n",
       "char_1       object\n",
       "group_1      object\n",
       "char_2       object\n",
       "date         object\n",
       "char_3       object\n",
       "char_4       object\n",
       "char_5       object\n",
       "char_6       object\n",
       "char_7       object\n",
       "char_8       object\n",
       "char_9       object\n",
       "char_10        bool\n",
       "char_11        bool\n",
       "char_12        bool\n",
       "char_13        bool\n",
       "char_14        bool\n",
       "char_15        bool\n",
       "char_16        bool\n",
       "char_17        bool\n",
       "char_18        bool\n",
       "char_19        bool\n",
       "char_20        bool\n",
       "char_21        bool\n",
       "char_22        bool\n",
       "char_23        bool\n",
       "char_24        bool\n",
       "char_25        bool\n",
       "char_26        bool\n",
       "char_27        bool\n",
       "char_28        bool\n",
       "char_29        bool\n",
       "char_30        bool\n",
       "char_31        bool\n",
       "char_32        bool\n",
       "char_33        bool\n",
       "char_34        bool\n",
       "char_35        bool\n",
       "char_36        bool\n",
       "char_37        bool\n",
       "char_38       int64\n",
       "dtype: object"
      ]
     },
     "execution_count": 3,
     "metadata": {},
     "output_type": "execute_result"
    }
   ],
   "source": [
    "df_people.dtypes"
   ]
  },
  {
   "cell_type": "code",
   "execution_count": 4,
   "metadata": {
    "collapsed": false
   },
   "outputs": [
    {
     "name": "stdout",
     "output_type": "stream",
     "text": [
      "<class 'pandas.core.frame.DataFrame'>\n",
      "RangeIndex: 189118 entries, 0 to 189117\n",
      "Data columns (total 41 columns):\n",
      "people_id    189118 non-null object\n",
      "char_1       189118 non-null object\n",
      "group_1      189118 non-null object\n",
      "char_2       189118 non-null object\n",
      "date         189118 non-null object\n",
      "char_3       189118 non-null object\n",
      "char_4       189118 non-null object\n",
      "char_5       189118 non-null object\n",
      "char_6       189118 non-null object\n",
      "char_7       189118 non-null object\n",
      "char_8       189118 non-null object\n",
      "char_9       189118 non-null object\n",
      "char_10      189118 non-null bool\n",
      "char_11      189118 non-null bool\n",
      "char_12      189118 non-null bool\n",
      "char_13      189118 non-null bool\n",
      "char_14      189118 non-null bool\n",
      "char_15      189118 non-null bool\n",
      "char_16      189118 non-null bool\n",
      "char_17      189118 non-null bool\n",
      "char_18      189118 non-null bool\n",
      "char_19      189118 non-null bool\n",
      "char_20      189118 non-null bool\n",
      "char_21      189118 non-null bool\n",
      "char_22      189118 non-null bool\n",
      "char_23      189118 non-null bool\n",
      "char_24      189118 non-null bool\n",
      "char_25      189118 non-null bool\n",
      "char_26      189118 non-null bool\n",
      "char_27      189118 non-null bool\n",
      "char_28      189118 non-null bool\n",
      "char_29      189118 non-null bool\n",
      "char_30      189118 non-null bool\n",
      "char_31      189118 non-null bool\n",
      "char_32      189118 non-null bool\n",
      "char_33      189118 non-null bool\n",
      "char_34      189118 non-null bool\n",
      "char_35      189118 non-null bool\n",
      "char_36      189118 non-null bool\n",
      "char_37      189118 non-null bool\n",
      "char_38      189118 non-null int64\n",
      "dtypes: bool(28), int64(1), object(12)\n",
      "memory usage: 23.8+ MB\n"
     ]
    }
   ],
   "source": [
    "# No missing values.  189118 rows.\n",
    "df_people.info()"
   ]
  },
  {
   "cell_type": "code",
   "execution_count": 5,
   "metadata": {
    "collapsed": false
   },
   "outputs": [
    {
     "data": {
      "text/html": [
       "<div>\n",
       "<table border=\"1\" class=\"dataframe\">\n",
       "  <thead>\n",
       "    <tr style=\"text-align: right;\">\n",
       "      <th></th>\n",
       "      <th>char_38</th>\n",
       "    </tr>\n",
       "  </thead>\n",
       "  <tbody>\n",
       "    <tr>\n",
       "      <th>count</th>\n",
       "      <td>189118.000000</td>\n",
       "    </tr>\n",
       "    <tr>\n",
       "      <th>mean</th>\n",
       "      <td>50.327399</td>\n",
       "    </tr>\n",
       "    <tr>\n",
       "      <th>std</th>\n",
       "      <td>35.752127</td>\n",
       "    </tr>\n",
       "    <tr>\n",
       "      <th>min</th>\n",
       "      <td>0.000000</td>\n",
       "    </tr>\n",
       "    <tr>\n",
       "      <th>25%</th>\n",
       "      <td>10.000000</td>\n",
       "    </tr>\n",
       "    <tr>\n",
       "      <th>50%</th>\n",
       "      <td>58.000000</td>\n",
       "    </tr>\n",
       "    <tr>\n",
       "      <th>75%</th>\n",
       "      <td>83.000000</td>\n",
       "    </tr>\n",
       "    <tr>\n",
       "      <th>max</th>\n",
       "      <td>100.000000</td>\n",
       "    </tr>\n",
       "  </tbody>\n",
       "</table>\n",
       "</div>"
      ],
      "text/plain": [
       "             char_38\n",
       "count  189118.000000\n",
       "mean       50.327399\n",
       "std        35.752127\n",
       "min         0.000000\n",
       "25%        10.000000\n",
       "50%        58.000000\n",
       "75%        83.000000\n",
       "max       100.000000"
      ]
     },
     "execution_count": 5,
     "metadata": {},
     "output_type": "execute_result"
    }
   ],
   "source": [
    "# quick summary\n",
    "df_people.describe()"
   ]
  },
  {
   "cell_type": "markdown",
   "metadata": {},
   "source": [
    "# Examine training activities"
   ]
  },
  {
   "cell_type": "code",
   "execution_count": 6,
   "metadata": {
    "collapsed": false
   },
   "outputs": [
    {
     "data": {
      "text/html": [
       "<div>\n",
       "<table border=\"1\" class=\"dataframe\">\n",
       "  <thead>\n",
       "    <tr style=\"text-align: right;\">\n",
       "      <th></th>\n",
       "      <th>people_id</th>\n",
       "      <th>activity_id</th>\n",
       "      <th>date</th>\n",
       "      <th>activity_category</th>\n",
       "      <th>char_1</th>\n",
       "      <th>char_2</th>\n",
       "      <th>char_3</th>\n",
       "      <th>char_4</th>\n",
       "      <th>char_5</th>\n",
       "      <th>char_6</th>\n",
       "      <th>char_7</th>\n",
       "      <th>char_8</th>\n",
       "      <th>char_9</th>\n",
       "      <th>char_10</th>\n",
       "      <th>outcome</th>\n",
       "    </tr>\n",
       "  </thead>\n",
       "  <tbody>\n",
       "    <tr>\n",
       "      <th>0</th>\n",
       "      <td>ppl_100</td>\n",
       "      <td>act2_1734928</td>\n",
       "      <td>2023-08-26</td>\n",
       "      <td>type 4</td>\n",
       "      <td>NaN</td>\n",
       "      <td>NaN</td>\n",
       "      <td>NaN</td>\n",
       "      <td>NaN</td>\n",
       "      <td>NaN</td>\n",
       "      <td>NaN</td>\n",
       "      <td>NaN</td>\n",
       "      <td>NaN</td>\n",
       "      <td>NaN</td>\n",
       "      <td>type 76</td>\n",
       "      <td>0</td>\n",
       "    </tr>\n",
       "    <tr>\n",
       "      <th>1</th>\n",
       "      <td>ppl_100</td>\n",
       "      <td>act2_2434093</td>\n",
       "      <td>2022-09-27</td>\n",
       "      <td>type 2</td>\n",
       "      <td>NaN</td>\n",
       "      <td>NaN</td>\n",
       "      <td>NaN</td>\n",
       "      <td>NaN</td>\n",
       "      <td>NaN</td>\n",
       "      <td>NaN</td>\n",
       "      <td>NaN</td>\n",
       "      <td>NaN</td>\n",
       "      <td>NaN</td>\n",
       "      <td>type 1</td>\n",
       "      <td>0</td>\n",
       "    </tr>\n",
       "    <tr>\n",
       "      <th>2</th>\n",
       "      <td>ppl_100</td>\n",
       "      <td>act2_3404049</td>\n",
       "      <td>2022-09-27</td>\n",
       "      <td>type 2</td>\n",
       "      <td>NaN</td>\n",
       "      <td>NaN</td>\n",
       "      <td>NaN</td>\n",
       "      <td>NaN</td>\n",
       "      <td>NaN</td>\n",
       "      <td>NaN</td>\n",
       "      <td>NaN</td>\n",
       "      <td>NaN</td>\n",
       "      <td>NaN</td>\n",
       "      <td>type 1</td>\n",
       "      <td>0</td>\n",
       "    </tr>\n",
       "    <tr>\n",
       "      <th>3</th>\n",
       "      <td>ppl_100</td>\n",
       "      <td>act2_3651215</td>\n",
       "      <td>2023-08-04</td>\n",
       "      <td>type 2</td>\n",
       "      <td>NaN</td>\n",
       "      <td>NaN</td>\n",
       "      <td>NaN</td>\n",
       "      <td>NaN</td>\n",
       "      <td>NaN</td>\n",
       "      <td>NaN</td>\n",
       "      <td>NaN</td>\n",
       "      <td>NaN</td>\n",
       "      <td>NaN</td>\n",
       "      <td>type 1</td>\n",
       "      <td>0</td>\n",
       "    </tr>\n",
       "    <tr>\n",
       "      <th>4</th>\n",
       "      <td>ppl_100</td>\n",
       "      <td>act2_4109017</td>\n",
       "      <td>2023-08-26</td>\n",
       "      <td>type 2</td>\n",
       "      <td>NaN</td>\n",
       "      <td>NaN</td>\n",
       "      <td>NaN</td>\n",
       "      <td>NaN</td>\n",
       "      <td>NaN</td>\n",
       "      <td>NaN</td>\n",
       "      <td>NaN</td>\n",
       "      <td>NaN</td>\n",
       "      <td>NaN</td>\n",
       "      <td>type 1</td>\n",
       "      <td>0</td>\n",
       "    </tr>\n",
       "  </tbody>\n",
       "</table>\n",
       "</div>"
      ],
      "text/plain": [
       "  people_id   activity_id        date activity_category char_1 char_2 char_3  \\\n",
       "0   ppl_100  act2_1734928  2023-08-26            type 4    NaN    NaN    NaN   \n",
       "1   ppl_100  act2_2434093  2022-09-27            type 2    NaN    NaN    NaN   \n",
       "2   ppl_100  act2_3404049  2022-09-27            type 2    NaN    NaN    NaN   \n",
       "3   ppl_100  act2_3651215  2023-08-04            type 2    NaN    NaN    NaN   \n",
       "4   ppl_100  act2_4109017  2023-08-26            type 2    NaN    NaN    NaN   \n",
       "\n",
       "  char_4 char_5 char_6 char_7 char_8 char_9  char_10  outcome  \n",
       "0    NaN    NaN    NaN    NaN    NaN    NaN  type 76        0  \n",
       "1    NaN    NaN    NaN    NaN    NaN    NaN   type 1        0  \n",
       "2    NaN    NaN    NaN    NaN    NaN    NaN   type 1        0  \n",
       "3    NaN    NaN    NaN    NaN    NaN    NaN   type 1        0  \n",
       "4    NaN    NaN    NaN    NaN    NaN    NaN   type 1        0  "
      ]
     },
     "execution_count": 6,
     "metadata": {},
     "output_type": "execute_result"
    }
   ],
   "source": [
    "df_act_train = pd.read_csv('./data/act_train.csv', header=0)\n",
    "df_act_train.head(5)"
   ]
  },
  {
   "cell_type": "code",
   "execution_count": 7,
   "metadata": {
    "collapsed": false
   },
   "outputs": [
    {
     "data": {
      "text/plain": [
       "people_id            object\n",
       "activity_id          object\n",
       "date                 object\n",
       "activity_category    object\n",
       "char_1               object\n",
       "char_2               object\n",
       "char_3               object\n",
       "char_4               object\n",
       "char_5               object\n",
       "char_6               object\n",
       "char_7               object\n",
       "char_8               object\n",
       "char_9               object\n",
       "char_10              object\n",
       "outcome               int64\n",
       "dtype: object"
      ]
     },
     "execution_count": 7,
     "metadata": {},
     "output_type": "execute_result"
    }
   ],
   "source": [
    "df_act_train.dtypes"
   ]
  },
  {
   "cell_type": "code",
   "execution_count": 8,
   "metadata": {
    "collapsed": false
   },
   "outputs": [
    {
     "name": "stdout",
     "output_type": "stream",
     "text": [
      "<class 'pandas.core.frame.DataFrame'>\n",
      "RangeIndex: 2197291 entries, 0 to 2197290\n",
      "Data columns (total 15 columns):\n",
      "people_id            object\n",
      "activity_id          object\n",
      "date                 object\n",
      "activity_category    object\n",
      "char_1               object\n",
      "char_2               object\n",
      "char_3               object\n",
      "char_4               object\n",
      "char_5               object\n",
      "char_6               object\n",
      "char_7               object\n",
      "char_8               object\n",
      "char_9               object\n",
      "char_10              object\n",
      "outcome              int64\n",
      "dtypes: int64(1), object(14)\n",
      "memory usage: 251.5+ MB\n"
     ]
    }
   ],
   "source": [
    "df_act_train.info()"
   ]
  },
  {
   "cell_type": "code",
   "execution_count": 9,
   "metadata": {
    "collapsed": false
   },
   "outputs": [
    {
     "data": {
      "text/html": [
       "<div>\n",
       "<table border=\"1\" class=\"dataframe\">\n",
       "  <thead>\n",
       "    <tr style=\"text-align: right;\">\n",
       "      <th></th>\n",
       "      <th>outcome</th>\n",
       "    </tr>\n",
       "  </thead>\n",
       "  <tbody>\n",
       "    <tr>\n",
       "      <th>count</th>\n",
       "      <td>2.197291e+06</td>\n",
       "    </tr>\n",
       "    <tr>\n",
       "      <th>mean</th>\n",
       "      <td>4.439544e-01</td>\n",
       "    </tr>\n",
       "    <tr>\n",
       "      <th>std</th>\n",
       "      <td>4.968491e-01</td>\n",
       "    </tr>\n",
       "    <tr>\n",
       "      <th>min</th>\n",
       "      <td>0.000000e+00</td>\n",
       "    </tr>\n",
       "    <tr>\n",
       "      <th>25%</th>\n",
       "      <td>0.000000e+00</td>\n",
       "    </tr>\n",
       "    <tr>\n",
       "      <th>50%</th>\n",
       "      <td>0.000000e+00</td>\n",
       "    </tr>\n",
       "    <tr>\n",
       "      <th>75%</th>\n",
       "      <td>1.000000e+00</td>\n",
       "    </tr>\n",
       "    <tr>\n",
       "      <th>max</th>\n",
       "      <td>1.000000e+00</td>\n",
       "    </tr>\n",
       "  </tbody>\n",
       "</table>\n",
       "</div>"
      ],
      "text/plain": [
       "            outcome\n",
       "count  2.197291e+06\n",
       "mean   4.439544e-01\n",
       "std    4.968491e-01\n",
       "min    0.000000e+00\n",
       "25%    0.000000e+00\n",
       "50%    0.000000e+00\n",
       "75%    1.000000e+00\n",
       "max    1.000000e+00"
      ]
     },
     "execution_count": 9,
     "metadata": {},
     "output_type": "execute_result"
    }
   ],
   "source": [
    "df_act_train.describe()"
   ]
  },
  {
   "cell_type": "code",
   "execution_count": 10,
   "metadata": {
    "collapsed": false
   },
   "outputs": [
    {
     "data": {
      "text/plain": [
       "array([nan, 'type 3', 'type 36', 'type 24', 'type 2', 'type 5', 'type 12',\n",
       "       'type 23', 'type 7', 'type 1', 'type 10', 'type 29', 'type 8',\n",
       "       'type 16', 'type 26', 'type 15', 'type 17', 'type 13', 'type 41',\n",
       "       'type 11', 'type 9', 'type 25', 'type 6', 'type 4', 'type 19',\n",
       "       'type 20', 'type 30', 'type 14', 'type 28', 'type 22', 'type 35',\n",
       "       'type 40', 'type 33', 'type 43', 'type 18', 'type 27', 'type 39',\n",
       "       'type 32', 'type 47', 'type 31', 'type 38', 'type 42', 'type 34',\n",
       "       'type 21', 'type 49', 'type 46', 'type 37', 'type 44', 'type 50',\n",
       "       'type 48', 'type 52', 'type 45'], dtype=object)"
      ]
     },
     "execution_count": 10,
     "metadata": {},
     "output_type": "execute_result"
    }
   ],
   "source": [
    "df_act_train['char_1'].unique()"
   ]
  },
  {
   "cell_type": "code",
   "execution_count": 11,
   "metadata": {
    "collapsed": false
   },
   "outputs": [
    {
     "data": {
      "text/plain": [
       "array(['type 4', 'type 2', 'type 3', 'type 5', 'type 1', 'type 7', 'type 6'], dtype=object)"
      ]
     },
     "execution_count": 11,
     "metadata": {},
     "output_type": "execute_result"
    }
   ],
   "source": [
    "df_act_train['activity_category'].unique()"
   ]
  },
  {
   "cell_type": "code",
   "execution_count": 12,
   "metadata": {
    "collapsed": false
   },
   "outputs": [
    {
     "data": {
      "text/plain": [
       "array([nan, 'type 5', 'type 11', 'type 6', 'type 2', 'type 1', 'type 16',\n",
       "       'type 14', 'type 4', 'type 8', 'type 3', 'type 10', 'type 25',\n",
       "       'type 26', 'type 9', 'type 19', 'type 13', 'type 7', 'type 12',\n",
       "       'type 29', 'type 17', 'type 15', 'type 18', 'type 20', 'type 21',\n",
       "       'type 24', 'type 22', 'type 27', 'type 23', 'type 28', 'type 31',\n",
       "       'type 32', 'type 30'], dtype=object)"
      ]
     },
     "execution_count": 12,
     "metadata": {},
     "output_type": "execute_result"
    }
   ],
   "source": [
    "df_act_train['char_2'].unique()"
   ]
  },
  {
   "cell_type": "code",
   "execution_count": 13,
   "metadata": {
    "collapsed": false
   },
   "outputs": [
    {
     "data": {
      "text/plain": [
       "array([nan, 'type 1', 'type 5', 'type 6', 'type 3', 'type 7', 'type 8',\n",
       "       'type 4', 'type 9', 'type 2', 'type 10', 'type 11'], dtype=object)"
      ]
     },
     "execution_count": 13,
     "metadata": {},
     "output_type": "execute_result"
    }
   ],
   "source": [
    "df_act_train['char_3'].unique()"
   ]
  },
  {
   "cell_type": "code",
   "execution_count": 14,
   "metadata": {
    "collapsed": false
   },
   "outputs": [
    {
     "data": {
      "text/plain": [
       "array([nan, 'type 1', 'type 3', 'type 2', 'type 4', 'type 6', 'type 5',\n",
       "       'type 7'], dtype=object)"
      ]
     },
     "execution_count": 14,
     "metadata": {},
     "output_type": "execute_result"
    }
   ],
   "source": [
    "df_act_train['char_4'].unique()"
   ]
  },
  {
   "cell_type": "code",
   "execution_count": 15,
   "metadata": {
    "collapsed": false
   },
   "outputs": [
    {
     "data": {
      "text/plain": [
       "array([nan, 'type 6', 'type 1', 'type 5', 'type 2', 'type 4', 'type 3',\n",
       "       'type 7'], dtype=object)"
      ]
     },
     "execution_count": 15,
     "metadata": {},
     "output_type": "execute_result"
    }
   ],
   "source": [
    "df_act_train['char_5'].unique()"
   ]
  },
  {
   "cell_type": "code",
   "execution_count": 16,
   "metadata": {
    "collapsed": false
   },
   "outputs": [
    {
     "data": {
      "text/plain": [
       "array([nan, 'type 3', 'type 1', 'type 2', 'type 4', 'type 5'], dtype=object)"
      ]
     },
     "execution_count": 16,
     "metadata": {},
     "output_type": "execute_result"
    }
   ],
   "source": [
    "df_act_train['char_6'].unique()"
   ]
  },
  {
   "cell_type": "code",
   "execution_count": 17,
   "metadata": {
    "collapsed": false
   },
   "outputs": [
    {
     "data": {
      "text/plain": [
       "array([nan, 'type 3', 'type 1', 'type 4', 'type 2', 'type 5', 'type 6',\n",
       "       'type 7', 'type 8'], dtype=object)"
      ]
     },
     "execution_count": 17,
     "metadata": {},
     "output_type": "execute_result"
    }
   ],
   "source": [
    "df_act_train['char_7'].unique()"
   ]
  },
  {
   "cell_type": "code",
   "execution_count": 18,
   "metadata": {
    "collapsed": false
   },
   "outputs": [
    {
     "data": {
      "text/plain": [
       "array([nan, 'type 6', 'type 4', 'type 5', 'type 9', 'type 18', 'type 14',\n",
       "       'type 7', 'type 3', 'type 8', 'type 11', 'type 1', 'type 13',\n",
       "       'type 10', 'type 15', 'type 2', 'type 16', 'type 12', 'type 17'], dtype=object)"
      ]
     },
     "execution_count": 18,
     "metadata": {},
     "output_type": "execute_result"
    }
   ],
   "source": [
    "df_act_train['char_8'].unique()"
   ]
  },
  {
   "cell_type": "code",
   "execution_count": 19,
   "metadata": {
    "collapsed": false
   },
   "outputs": [
    {
     "data": {
      "text/plain": [
       "array([nan, 'type 8', 'type 1', 'type 2', 'type 7', 'type 13', 'type 9',\n",
       "       'type 15', 'type 4', 'type 6', 'type 3', 'type 12', 'type 10',\n",
       "       'type 17', 'type 18', 'type 14', 'type 5', 'type 16', 'type 19',\n",
       "       'type 11'], dtype=object)"
      ]
     },
     "execution_count": 19,
     "metadata": {},
     "output_type": "execute_result"
    }
   ],
   "source": [
    "df_act_train['char_9'].unique()"
   ]
  },
  {
   "cell_type": "code",
   "execution_count": 20,
   "metadata": {
    "collapsed": false
   },
   "outputs": [
    {
     "data": {
      "text/plain": [
       "array(['type 76', 'type 1', 'type 1727', ..., 'type 7356', 'type 6865',\n",
       "       'type 7379'], dtype=object)"
      ]
     },
     "execution_count": 20,
     "metadata": {},
     "output_type": "execute_result"
    }
   ],
   "source": [
    "df_act_train['char_10'].unique()"
   ]
  },
  {
   "cell_type": "code",
   "execution_count": 21,
   "metadata": {
    "collapsed": false
   },
   "outputs": [
    {
     "data": {
      "text/plain": [
       "array([0, 1])"
      ]
     },
     "execution_count": 21,
     "metadata": {},
     "output_type": "execute_result"
    }
   ],
   "source": [
    "df_act_train['outcome'].unique()"
   ]
  },
  {
   "cell_type": "markdown",
   "metadata": {},
   "source": [
    "# Check positive and negative class size for imbalance"
   ]
  },
  {
   "cell_type": "code",
   "execution_count": 22,
   "metadata": {
    "collapsed": false
   },
   "outputs": [
    {
     "data": {
      "text/plain": [
       "32959365"
      ]
     },
     "execution_count": 22,
     "metadata": {},
     "output_type": "execute_result"
    }
   ],
   "source": [
    "df_act_train.size"
   ]
  },
  {
   "cell_type": "code",
   "execution_count": 23,
   "metadata": {
    "collapsed": false
   },
   "outputs": [
    {
     "data": {
      "text/plain": [
       "18326910"
      ]
     },
     "execution_count": 23,
     "metadata": {},
     "output_type": "execute_result"
    }
   ],
   "source": [
    "negative_size = df_act_train[ df_act_train['outcome'] == 0 ].size\n",
    "negative_size"
   ]
  },
  {
   "cell_type": "code",
   "execution_count": 24,
   "metadata": {
    "collapsed": false
   },
   "outputs": [
    {
     "data": {
      "text/plain": [
       "14632455"
      ]
     },
     "execution_count": 24,
     "metadata": {},
     "output_type": "execute_result"
    }
   ],
   "source": [
    "positive_size = df_act_train[ df_act_train['outcome'] == 1 ].size\n",
    "positive_size"
   ]
  },
  {
   "cell_type": "code",
   "execution_count": 25,
   "metadata": {
    "collapsed": false
   },
   "outputs": [
    {
     "name": "stdout",
     "output_type": "stream",
     "text": [
      "Negaitve %=0.556045603427\n",
      "Positive %=0.443954396573\n"
     ]
    }
   ],
   "source": [
    "print 'Negaitve %=' + str(float(negative_size)/float(df_act_train.size))\n",
    "print 'Positive %=' + str(float(positive_size)/float(df_act_train.size))"
   ]
  },
  {
   "cell_type": "code",
   "execution_count": 26,
   "metadata": {
    "collapsed": false
   },
   "outputs": [
    {
     "name": "stdout",
     "output_type": "stream",
     "text": [
      "Negative class is more than positive class by 3694455\n"
     ]
    }
   ],
   "source": [
    "print 'Negative class is more than positive class by ' + str(negative_size - positive_size)"
   ]
  },
  {
   "cell_type": "markdown",
   "metadata": {},
   "source": [
    "# Preprocess data"
   ]
  },
  {
   "cell_type": "code",
   "execution_count": 27,
   "metadata": {
    "collapsed": true
   },
   "outputs": [],
   "source": [
    "# helper method that get last digit from a string\n",
    "import re\n",
    "def getLastDigitsFromString(x):\n",
    "    if x != x:\n",
    "        return -9999\n",
    "    \n",
    "    result = re.match('.*?([0-9]+)$', x)\n",
    "    if result is None:\n",
    "        return -9999\n",
    "    else:\n",
    "        return int(result.group(1))"
   ]
  },
  {
   "cell_type": "code",
   "execution_count": 28,
   "metadata": {
    "collapsed": false
   },
   "outputs": [],
   "source": [
    "df_act_train['people_id'] = df_act_train['people_id'].map( getLastDigitsFromString )\n",
    "df_act_train['activity_id'] = df_act_train['activity_id'].map( getLastDigitsFromString )\n",
    "df_act_train['activity_category'] = df_act_train['activity_category'].map( getLastDigitsFromString )\n",
    "df_act_train['char_1'] = df_act_train['char_1'].map( getLastDigitsFromString )\n",
    "df_act_train['char_2'] = df_act_train['char_2'].map( getLastDigitsFromString )\n",
    "df_act_train['char_3'] = df_act_train['char_3'].map( getLastDigitsFromString )\n",
    "df_act_train['char_4'] = df_act_train['char_4'].map( getLastDigitsFromString )\n",
    "df_act_train['char_5'] = df_act_train['char_5'].map( getLastDigitsFromString )\n",
    "df_act_train['char_6'] = df_act_train['char_6'].map( getLastDigitsFromString )\n",
    "df_act_train['char_7'] = df_act_train['char_7'].map( getLastDigitsFromString )\n",
    "df_act_train['char_8'] = df_act_train['char_8'].map( getLastDigitsFromString )\n",
    "df_act_train['char_9'] = df_act_train['char_9'].map( getLastDigitsFromString )\n",
    "df_act_train['char_10'] = df_act_train['char_10'].map( getLastDigitsFromString )\n"
   ]
  },
  {
   "cell_type": "code",
   "execution_count": 29,
   "metadata": {
    "collapsed": false
   },
   "outputs": [
    {
     "data": {
      "text/html": [
       "<div>\n",
       "<table border=\"1\" class=\"dataframe\">\n",
       "  <thead>\n",
       "    <tr style=\"text-align: right;\">\n",
       "      <th></th>\n",
       "      <th>people_id</th>\n",
       "      <th>activity_id</th>\n",
       "      <th>date</th>\n",
       "      <th>activity_category</th>\n",
       "      <th>char_1</th>\n",
       "      <th>char_2</th>\n",
       "      <th>char_3</th>\n",
       "      <th>char_4</th>\n",
       "      <th>char_5</th>\n",
       "      <th>char_6</th>\n",
       "      <th>char_7</th>\n",
       "      <th>char_8</th>\n",
       "      <th>char_9</th>\n",
       "      <th>char_10</th>\n",
       "      <th>outcome</th>\n",
       "    </tr>\n",
       "  </thead>\n",
       "  <tbody>\n",
       "    <tr>\n",
       "      <th>0</th>\n",
       "      <td>100</td>\n",
       "      <td>1734928</td>\n",
       "      <td>2023-08-26</td>\n",
       "      <td>4</td>\n",
       "      <td>-9999</td>\n",
       "      <td>-9999</td>\n",
       "      <td>-9999</td>\n",
       "      <td>-9999</td>\n",
       "      <td>-9999</td>\n",
       "      <td>-9999</td>\n",
       "      <td>-9999</td>\n",
       "      <td>-9999</td>\n",
       "      <td>-9999</td>\n",
       "      <td>76</td>\n",
       "      <td>0</td>\n",
       "    </tr>\n",
       "    <tr>\n",
       "      <th>1</th>\n",
       "      <td>100</td>\n",
       "      <td>2434093</td>\n",
       "      <td>2022-09-27</td>\n",
       "      <td>2</td>\n",
       "      <td>-9999</td>\n",
       "      <td>-9999</td>\n",
       "      <td>-9999</td>\n",
       "      <td>-9999</td>\n",
       "      <td>-9999</td>\n",
       "      <td>-9999</td>\n",
       "      <td>-9999</td>\n",
       "      <td>-9999</td>\n",
       "      <td>-9999</td>\n",
       "      <td>1</td>\n",
       "      <td>0</td>\n",
       "    </tr>\n",
       "    <tr>\n",
       "      <th>2</th>\n",
       "      <td>100</td>\n",
       "      <td>3404049</td>\n",
       "      <td>2022-09-27</td>\n",
       "      <td>2</td>\n",
       "      <td>-9999</td>\n",
       "      <td>-9999</td>\n",
       "      <td>-9999</td>\n",
       "      <td>-9999</td>\n",
       "      <td>-9999</td>\n",
       "      <td>-9999</td>\n",
       "      <td>-9999</td>\n",
       "      <td>-9999</td>\n",
       "      <td>-9999</td>\n",
       "      <td>1</td>\n",
       "      <td>0</td>\n",
       "    </tr>\n",
       "    <tr>\n",
       "      <th>3</th>\n",
       "      <td>100</td>\n",
       "      <td>3651215</td>\n",
       "      <td>2023-08-04</td>\n",
       "      <td>2</td>\n",
       "      <td>-9999</td>\n",
       "      <td>-9999</td>\n",
       "      <td>-9999</td>\n",
       "      <td>-9999</td>\n",
       "      <td>-9999</td>\n",
       "      <td>-9999</td>\n",
       "      <td>-9999</td>\n",
       "      <td>-9999</td>\n",
       "      <td>-9999</td>\n",
       "      <td>1</td>\n",
       "      <td>0</td>\n",
       "    </tr>\n",
       "    <tr>\n",
       "      <th>4</th>\n",
       "      <td>100</td>\n",
       "      <td>4109017</td>\n",
       "      <td>2023-08-26</td>\n",
       "      <td>2</td>\n",
       "      <td>-9999</td>\n",
       "      <td>-9999</td>\n",
       "      <td>-9999</td>\n",
       "      <td>-9999</td>\n",
       "      <td>-9999</td>\n",
       "      <td>-9999</td>\n",
       "      <td>-9999</td>\n",
       "      <td>-9999</td>\n",
       "      <td>-9999</td>\n",
       "      <td>1</td>\n",
       "      <td>0</td>\n",
       "    </tr>\n",
       "    <tr>\n",
       "      <th>5</th>\n",
       "      <td>100</td>\n",
       "      <td>898576</td>\n",
       "      <td>2023-08-04</td>\n",
       "      <td>4</td>\n",
       "      <td>-9999</td>\n",
       "      <td>-9999</td>\n",
       "      <td>-9999</td>\n",
       "      <td>-9999</td>\n",
       "      <td>-9999</td>\n",
       "      <td>-9999</td>\n",
       "      <td>-9999</td>\n",
       "      <td>-9999</td>\n",
       "      <td>-9999</td>\n",
       "      <td>1727</td>\n",
       "      <td>0</td>\n",
       "    </tr>\n",
       "    <tr>\n",
       "      <th>6</th>\n",
       "      <td>100002</td>\n",
       "      <td>1233489</td>\n",
       "      <td>2022-11-23</td>\n",
       "      <td>2</td>\n",
       "      <td>-9999</td>\n",
       "      <td>-9999</td>\n",
       "      <td>-9999</td>\n",
       "      <td>-9999</td>\n",
       "      <td>-9999</td>\n",
       "      <td>-9999</td>\n",
       "      <td>-9999</td>\n",
       "      <td>-9999</td>\n",
       "      <td>-9999</td>\n",
       "      <td>1</td>\n",
       "      <td>1</td>\n",
       "    </tr>\n",
       "    <tr>\n",
       "      <th>7</th>\n",
       "      <td>100002</td>\n",
       "      <td>1623405</td>\n",
       "      <td>2022-11-23</td>\n",
       "      <td>2</td>\n",
       "      <td>-9999</td>\n",
       "      <td>-9999</td>\n",
       "      <td>-9999</td>\n",
       "      <td>-9999</td>\n",
       "      <td>-9999</td>\n",
       "      <td>-9999</td>\n",
       "      <td>-9999</td>\n",
       "      <td>-9999</td>\n",
       "      <td>-9999</td>\n",
       "      <td>1</td>\n",
       "      <td>1</td>\n",
       "    </tr>\n",
       "    <tr>\n",
       "      <th>8</th>\n",
       "      <td>100003</td>\n",
       "      <td>1111598</td>\n",
       "      <td>2023-02-07</td>\n",
       "      <td>2</td>\n",
       "      <td>-9999</td>\n",
       "      <td>-9999</td>\n",
       "      <td>-9999</td>\n",
       "      <td>-9999</td>\n",
       "      <td>-9999</td>\n",
       "      <td>-9999</td>\n",
       "      <td>-9999</td>\n",
       "      <td>-9999</td>\n",
       "      <td>-9999</td>\n",
       "      <td>1</td>\n",
       "      <td>1</td>\n",
       "    </tr>\n",
       "    <tr>\n",
       "      <th>9</th>\n",
       "      <td>100003</td>\n",
       "      <td>1177453</td>\n",
       "      <td>2023-06-28</td>\n",
       "      <td>2</td>\n",
       "      <td>-9999</td>\n",
       "      <td>-9999</td>\n",
       "      <td>-9999</td>\n",
       "      <td>-9999</td>\n",
       "      <td>-9999</td>\n",
       "      <td>-9999</td>\n",
       "      <td>-9999</td>\n",
       "      <td>-9999</td>\n",
       "      <td>-9999</td>\n",
       "      <td>1</td>\n",
       "      <td>1</td>\n",
       "    </tr>\n",
       "    <tr>\n",
       "      <th>10</th>\n",
       "      <td>100003</td>\n",
       "      <td>133509</td>\n",
       "      <td>2022-08-10</td>\n",
       "      <td>4</td>\n",
       "      <td>-9999</td>\n",
       "      <td>-9999</td>\n",
       "      <td>-9999</td>\n",
       "      <td>-9999</td>\n",
       "      <td>-9999</td>\n",
       "      <td>-9999</td>\n",
       "      <td>-9999</td>\n",
       "      <td>-9999</td>\n",
       "      <td>-9999</td>\n",
       "      <td>894</td>\n",
       "      <td>1</td>\n",
       "    </tr>\n",
       "    <tr>\n",
       "      <th>11</th>\n",
       "      <td>100003</td>\n",
       "      <td>1408475</td>\n",
       "      <td>2023-03-02</td>\n",
       "      <td>4</td>\n",
       "      <td>-9999</td>\n",
       "      <td>-9999</td>\n",
       "      <td>-9999</td>\n",
       "      <td>-9999</td>\n",
       "      <td>-9999</td>\n",
       "      <td>-9999</td>\n",
       "      <td>-9999</td>\n",
       "      <td>-9999</td>\n",
       "      <td>-9999</td>\n",
       "      <td>143</td>\n",
       "      <td>1</td>\n",
       "    </tr>\n",
       "    <tr>\n",
       "      <th>12</th>\n",
       "      <td>100003</td>\n",
       "      <td>1610829</td>\n",
       "      <td>2022-09-13</td>\n",
       "      <td>2</td>\n",
       "      <td>-9999</td>\n",
       "      <td>-9999</td>\n",
       "      <td>-9999</td>\n",
       "      <td>-9999</td>\n",
       "      <td>-9999</td>\n",
       "      <td>-9999</td>\n",
       "      <td>-9999</td>\n",
       "      <td>-9999</td>\n",
       "      <td>-9999</td>\n",
       "      <td>1</td>\n",
       "      <td>1</td>\n",
       "    </tr>\n",
       "    <tr>\n",
       "      <th>13</th>\n",
       "      <td>100003</td>\n",
       "      <td>1688731</td>\n",
       "      <td>2023-02-10</td>\n",
       "      <td>4</td>\n",
       "      <td>-9999</td>\n",
       "      <td>-9999</td>\n",
       "      <td>-9999</td>\n",
       "      <td>-9999</td>\n",
       "      <td>-9999</td>\n",
       "      <td>-9999</td>\n",
       "      <td>-9999</td>\n",
       "      <td>-9999</td>\n",
       "      <td>-9999</td>\n",
       "      <td>297</td>\n",
       "      <td>1</td>\n",
       "    </tr>\n",
       "    <tr>\n",
       "      <th>14</th>\n",
       "      <td>100003</td>\n",
       "      <td>1961720</td>\n",
       "      <td>2023-06-28</td>\n",
       "      <td>4</td>\n",
       "      <td>-9999</td>\n",
       "      <td>-9999</td>\n",
       "      <td>-9999</td>\n",
       "      <td>-9999</td>\n",
       "      <td>-9999</td>\n",
       "      <td>-9999</td>\n",
       "      <td>-9999</td>\n",
       "      <td>-9999</td>\n",
       "      <td>-9999</td>\n",
       "      <td>269</td>\n",
       "      <td>1</td>\n",
       "    </tr>\n",
       "    <tr>\n",
       "      <th>15</th>\n",
       "      <td>100003</td>\n",
       "      <td>1988351</td>\n",
       "      <td>2022-08-23</td>\n",
       "      <td>2</td>\n",
       "      <td>-9999</td>\n",
       "      <td>-9999</td>\n",
       "      <td>-9999</td>\n",
       "      <td>-9999</td>\n",
       "      <td>-9999</td>\n",
       "      <td>-9999</td>\n",
       "      <td>-9999</td>\n",
       "      <td>-9999</td>\n",
       "      <td>-9999</td>\n",
       "      <td>1</td>\n",
       "      <td>1</td>\n",
       "    </tr>\n",
       "    <tr>\n",
       "      <th>16</th>\n",
       "      <td>100003</td>\n",
       "      <td>2198176</td>\n",
       "      <td>2022-08-16</td>\n",
       "      <td>2</td>\n",
       "      <td>-9999</td>\n",
       "      <td>-9999</td>\n",
       "      <td>-9999</td>\n",
       "      <td>-9999</td>\n",
       "      <td>-9999</td>\n",
       "      <td>-9999</td>\n",
       "      <td>-9999</td>\n",
       "      <td>-9999</td>\n",
       "      <td>-9999</td>\n",
       "      <td>1</td>\n",
       "      <td>1</td>\n",
       "    </tr>\n",
       "    <tr>\n",
       "      <th>17</th>\n",
       "      <td>100003</td>\n",
       "      <td>2437661</td>\n",
       "      <td>2023-02-02</td>\n",
       "      <td>2</td>\n",
       "      <td>-9999</td>\n",
       "      <td>-9999</td>\n",
       "      <td>-9999</td>\n",
       "      <td>-9999</td>\n",
       "      <td>-9999</td>\n",
       "      <td>-9999</td>\n",
       "      <td>-9999</td>\n",
       "      <td>-9999</td>\n",
       "      <td>-9999</td>\n",
       "      <td>1</td>\n",
       "      <td>1</td>\n",
       "    </tr>\n",
       "    <tr>\n",
       "      <th>18</th>\n",
       "      <td>100003</td>\n",
       "      <td>2476911</td>\n",
       "      <td>2023-03-02</td>\n",
       "      <td>2</td>\n",
       "      <td>-9999</td>\n",
       "      <td>-9999</td>\n",
       "      <td>-9999</td>\n",
       "      <td>-9999</td>\n",
       "      <td>-9999</td>\n",
       "      <td>-9999</td>\n",
       "      <td>-9999</td>\n",
       "      <td>-9999</td>\n",
       "      <td>-9999</td>\n",
       "      <td>1</td>\n",
       "      <td>1</td>\n",
       "    </tr>\n",
       "    <tr>\n",
       "      <th>19</th>\n",
       "      <td>100003</td>\n",
       "      <td>2557270</td>\n",
       "      <td>2022-08-30</td>\n",
       "      <td>4</td>\n",
       "      <td>-9999</td>\n",
       "      <td>-9999</td>\n",
       "      <td>-9999</td>\n",
       "      <td>-9999</td>\n",
       "      <td>-9999</td>\n",
       "      <td>-9999</td>\n",
       "      <td>-9999</td>\n",
       "      <td>-9999</td>\n",
       "      <td>-9999</td>\n",
       "      <td>230</td>\n",
       "      <td>1</td>\n",
       "    </tr>\n",
       "  </tbody>\n",
       "</table>\n",
       "</div>"
      ],
      "text/plain": [
       "    people_id  activity_id        date  activity_category  char_1  char_2  \\\n",
       "0         100      1734928  2023-08-26                  4   -9999   -9999   \n",
       "1         100      2434093  2022-09-27                  2   -9999   -9999   \n",
       "2         100      3404049  2022-09-27                  2   -9999   -9999   \n",
       "3         100      3651215  2023-08-04                  2   -9999   -9999   \n",
       "4         100      4109017  2023-08-26                  2   -9999   -9999   \n",
       "5         100       898576  2023-08-04                  4   -9999   -9999   \n",
       "6      100002      1233489  2022-11-23                  2   -9999   -9999   \n",
       "7      100002      1623405  2022-11-23                  2   -9999   -9999   \n",
       "8      100003      1111598  2023-02-07                  2   -9999   -9999   \n",
       "9      100003      1177453  2023-06-28                  2   -9999   -9999   \n",
       "10     100003       133509  2022-08-10                  4   -9999   -9999   \n",
       "11     100003      1408475  2023-03-02                  4   -9999   -9999   \n",
       "12     100003      1610829  2022-09-13                  2   -9999   -9999   \n",
       "13     100003      1688731  2023-02-10                  4   -9999   -9999   \n",
       "14     100003      1961720  2023-06-28                  4   -9999   -9999   \n",
       "15     100003      1988351  2022-08-23                  2   -9999   -9999   \n",
       "16     100003      2198176  2022-08-16                  2   -9999   -9999   \n",
       "17     100003      2437661  2023-02-02                  2   -9999   -9999   \n",
       "18     100003      2476911  2023-03-02                  2   -9999   -9999   \n",
       "19     100003      2557270  2022-08-30                  4   -9999   -9999   \n",
       "\n",
       "    char_3  char_4  char_5  char_6  char_7  char_8  char_9  char_10  outcome  \n",
       "0    -9999   -9999   -9999   -9999   -9999   -9999   -9999       76        0  \n",
       "1    -9999   -9999   -9999   -9999   -9999   -9999   -9999        1        0  \n",
       "2    -9999   -9999   -9999   -9999   -9999   -9999   -9999        1        0  \n",
       "3    -9999   -9999   -9999   -9999   -9999   -9999   -9999        1        0  \n",
       "4    -9999   -9999   -9999   -9999   -9999   -9999   -9999        1        0  \n",
       "5    -9999   -9999   -9999   -9999   -9999   -9999   -9999     1727        0  \n",
       "6    -9999   -9999   -9999   -9999   -9999   -9999   -9999        1        1  \n",
       "7    -9999   -9999   -9999   -9999   -9999   -9999   -9999        1        1  \n",
       "8    -9999   -9999   -9999   -9999   -9999   -9999   -9999        1        1  \n",
       "9    -9999   -9999   -9999   -9999   -9999   -9999   -9999        1        1  \n",
       "10   -9999   -9999   -9999   -9999   -9999   -9999   -9999      894        1  \n",
       "11   -9999   -9999   -9999   -9999   -9999   -9999   -9999      143        1  \n",
       "12   -9999   -9999   -9999   -9999   -9999   -9999   -9999        1        1  \n",
       "13   -9999   -9999   -9999   -9999   -9999   -9999   -9999      297        1  \n",
       "14   -9999   -9999   -9999   -9999   -9999   -9999   -9999      269        1  \n",
       "15   -9999   -9999   -9999   -9999   -9999   -9999   -9999        1        1  \n",
       "16   -9999   -9999   -9999   -9999   -9999   -9999   -9999        1        1  \n",
       "17   -9999   -9999   -9999   -9999   -9999   -9999   -9999        1        1  \n",
       "18   -9999   -9999   -9999   -9999   -9999   -9999   -9999        1        1  \n",
       "19   -9999   -9999   -9999   -9999   -9999   -9999   -9999      230        1  "
      ]
     },
     "execution_count": 29,
     "metadata": {},
     "output_type": "execute_result"
    }
   ],
   "source": [
    "df_act_train.head(20)"
   ]
  },
  {
   "cell_type": "markdown",
   "metadata": {},
   "source": [
    "# Train model"
   ]
  },
  {
   "cell_type": "code",
   "execution_count": 30,
   "metadata": {
    "collapsed": true
   },
   "outputs": [],
   "source": [
    "import graphlab as gl"
   ]
  },
  {
   "cell_type": "code",
   "execution_count": 31,
   "metadata": {
    "collapsed": false
   },
   "outputs": [
    {
     "name": "stdout",
     "output_type": "stream",
     "text": [
      "This non-commercial license of GraphLab Create for academic use is assigned to eric.leung@alumni.utoronto.ca and will expire on September 03, 2017.\n"
     ]
    },
    {
     "name": "stderr",
     "output_type": "stream",
     "text": [
      "[INFO] graphlab.cython.cy_server: GraphLab Create v2.1 started. Logging: /tmp/graphlab_server_1473915360.log\n"
     ]
    },
    {
     "name": "stdout",
     "output_type": "stream",
     "text": [
      "+-----------+-------------+------------+-------------------+--------+--------+\n",
      "| people_id | activity_id |    date    | activity_category | char_1 | char_2 |\n",
      "+-----------+-------------+------------+-------------------+--------+--------+\n",
      "|    100    |   1734928   | 2023-08-26 |         4         | -9999  | -9999  |\n",
      "|    100    |   2434093   | 2022-09-27 |         2         | -9999  | -9999  |\n",
      "|    100    |   3404049   | 2022-09-27 |         2         | -9999  | -9999  |\n",
      "|    100    |   3651215   | 2023-08-04 |         2         | -9999  | -9999  |\n",
      "|    100    |   4109017   | 2023-08-26 |         2         | -9999  | -9999  |\n",
      "|    100    |    898576   | 2023-08-04 |         4         | -9999  | -9999  |\n",
      "|   100002  |   1233489   | 2022-11-23 |         2         | -9999  | -9999  |\n",
      "|   100002  |   1623405   | 2022-11-23 |         2         | -9999  | -9999  |\n",
      "|   100003  |   1111598   | 2023-02-07 |         2         | -9999  | -9999  |\n",
      "|   100003  |   1177453   | 2023-06-28 |         2         | -9999  | -9999  |\n",
      "|   100003  |    133509   | 2022-08-10 |         4         | -9999  | -9999  |\n",
      "|   100003  |   1408475   | 2023-03-02 |         4         | -9999  | -9999  |\n",
      "|   100003  |   1610829   | 2022-09-13 |         2         | -9999  | -9999  |\n",
      "|   100003  |   1688731   | 2023-02-10 |         4         | -9999  | -9999  |\n",
      "|   100003  |   1961720   | 2023-06-28 |         4         | -9999  | -9999  |\n",
      "|   100003  |   1988351   | 2022-08-23 |         2         | -9999  | -9999  |\n",
      "|   100003  |   2198176   | 2022-08-16 |         2         | -9999  | -9999  |\n",
      "|   100003  |   2437661   | 2023-02-02 |         2         | -9999  | -9999  |\n",
      "|   100003  |   2476911   | 2023-03-02 |         2         | -9999  | -9999  |\n",
      "|   100003  |   2557270   | 2022-08-30 |         4         | -9999  | -9999  |\n",
      "|   100003  |   2581989   | 2023-02-21 |         2         | -9999  | -9999  |\n",
      "|   100003  |   3116385   | 2023-02-15 |         2         | -9999  | -9999  |\n",
      "|   100003  |   3159712   | 2022-08-30 |         2         | -9999  | -9999  |\n",
      "|   100003  |   3292005   | 2023-05-03 |         2         | -9999  | -9999  |\n",
      "|   100003  |   3461867   | 2023-08-02 |         2         | -9999  | -9999  |\n",
      "|   100003  |   3468306   | 2023-03-02 |         4         | -9999  | -9999  |\n",
      "|   100003  |   3867292   | 2023-02-10 |         2         | -9999  | -9999  |\n",
      "|   100003  |   3990676   | 2023-08-30 |         4         | -9999  | -9999  |\n",
      "|   100003  |   4102292   | 2023-08-30 |         2         | -9999  | -9999  |\n",
      "|   100003  |   4160587   | 2023-02-21 |         2         | -9999  | -9999  |\n",
      "|   100003  |   4392666   | 2022-08-10 |         2         | -9999  | -9999  |\n",
      "|   100003  |   4438110   | 2022-08-25 |         2         | -9999  | -9999  |\n",
      "|   100003  |   4511875   | 2022-09-06 |         2         | -9999  | -9999  |\n",
      "|   100003  |   4568041   | 2022-08-10 |         2         | -9999  | -9999  |\n",
      "|   100003  |   4582681   | 2022-08-30 |         2         | -9999  | -9999  |\n",
      "|   100003  |   4665065   | 2022-08-26 |         2         | -9999  | -9999  |\n",
      "|   100003  |   4808411   | 2022-08-10 |         4         | -9999  | -9999  |\n",
      "|   100003  |    666224   | 2023-02-02 |         4         | -9999  | -9999  |\n",
      "|   100003  |     6962    | 2023-06-28 |         4         | -9999  | -9999  |\n",
      "|   100003  |    787846   | 2023-07-27 |         2         | -9999  | -9999  |\n",
      "|   100003  |    79633    | 2023-05-03 |         4         | -9999  | -9999  |\n",
      "|   100003  |    992474   | 2023-08-30 |         2         | -9999  | -9999  |\n",
      "|   100006  |   2358115   | 2022-10-05 |         4         | -9999  | -9999  |\n",
      "|   100006  |   2380649   | 2022-07-27 |         3         | -9999  | -9999  |\n",
      "|   100006  |    632935   | 2022-10-05 |         4         | -9999  | -9999  |\n",
      "|   100013  |   1667803   | 2023-01-26 |         5         | -9999  | -9999  |\n",
      "|   100013  |     2229    | 2023-01-25 |         5         | -9999  | -9999  |\n",
      "|   100013  |    225752   | 2023-01-26 |         5         | -9999  | -9999  |\n",
      "|   100013  |   2601949   | 2023-01-25 |         5         | -9999  | -9999  |\n",
      "|   100013  |   3059098   | 2023-01-25 |         5         | -9999  | -9999  |\n",
      "+-----------+-------------+------------+-------------------+--------+--------+\n",
      "+--------+--------+--------+--------+--------+--------+--------+---------+---------+\n",
      "| char_3 | char_4 | char_5 | char_6 | char_7 | char_8 | char_9 | char_10 | outcome |\n",
      "+--------+--------+--------+--------+--------+--------+--------+---------+---------+\n",
      "| -9999  | -9999  | -9999  | -9999  | -9999  | -9999  | -9999  |    76   |    0    |\n",
      "| -9999  | -9999  | -9999  | -9999  | -9999  | -9999  | -9999  |    1    |    0    |\n",
      "| -9999  | -9999  | -9999  | -9999  | -9999  | -9999  | -9999  |    1    |    0    |\n",
      "| -9999  | -9999  | -9999  | -9999  | -9999  | -9999  | -9999  |    1    |    0    |\n",
      "| -9999  | -9999  | -9999  | -9999  | -9999  | -9999  | -9999  |    1    |    0    |\n",
      "| -9999  | -9999  | -9999  | -9999  | -9999  | -9999  | -9999  |   1727  |    0    |\n",
      "| -9999  | -9999  | -9999  | -9999  | -9999  | -9999  | -9999  |    1    |    1    |\n",
      "| -9999  | -9999  | -9999  | -9999  | -9999  | -9999  | -9999  |    1    |    1    |\n",
      "| -9999  | -9999  | -9999  | -9999  | -9999  | -9999  | -9999  |    1    |    1    |\n",
      "| -9999  | -9999  | -9999  | -9999  | -9999  | -9999  | -9999  |    1    |    1    |\n",
      "| -9999  | -9999  | -9999  | -9999  | -9999  | -9999  | -9999  |   894   |    1    |\n",
      "| -9999  | -9999  | -9999  | -9999  | -9999  | -9999  | -9999  |   143   |    1    |\n",
      "| -9999  | -9999  | -9999  | -9999  | -9999  | -9999  | -9999  |    1    |    1    |\n",
      "| -9999  | -9999  | -9999  | -9999  | -9999  | -9999  | -9999  |   297   |    1    |\n",
      "| -9999  | -9999  | -9999  | -9999  | -9999  | -9999  | -9999  |   269   |    1    |\n",
      "| -9999  | -9999  | -9999  | -9999  | -9999  | -9999  | -9999  |    1    |    1    |\n",
      "| -9999  | -9999  | -9999  | -9999  | -9999  | -9999  | -9999  |    1    |    1    |\n",
      "| -9999  | -9999  | -9999  | -9999  | -9999  | -9999  | -9999  |    1    |    1    |\n",
      "| -9999  | -9999  | -9999  | -9999  | -9999  | -9999  | -9999  |    1    |    1    |\n",
      "| -9999  | -9999  | -9999  | -9999  | -9999  | -9999  | -9999  |   230   |    1    |\n",
      "| -9999  | -9999  | -9999  | -9999  | -9999  | -9999  | -9999  |    1    |    1    |\n",
      "| -9999  | -9999  | -9999  | -9999  | -9999  | -9999  | -9999  |    1    |    1    |\n",
      "| -9999  | -9999  | -9999  | -9999  | -9999  | -9999  | -9999  |    1    |    1    |\n",
      "| -9999  | -9999  | -9999  | -9999  | -9999  | -9999  | -9999  |    1    |    1    |\n",
      "| -9999  | -9999  | -9999  | -9999  | -9999  | -9999  | -9999  |    1    |    1    |\n",
      "| -9999  | -9999  | -9999  | -9999  | -9999  | -9999  | -9999  |   143   |    1    |\n",
      "| -9999  | -9999  | -9999  | -9999  | -9999  | -9999  | -9999  |    1    |    1    |\n",
      "| -9999  | -9999  | -9999  | -9999  | -9999  | -9999  | -9999  |   276   |    1    |\n",
      "| -9999  | -9999  | -9999  | -9999  | -9999  | -9999  | -9999  |    1    |    1    |\n",
      "| -9999  | -9999  | -9999  | -9999  | -9999  | -9999  | -9999  |    1    |    1    |\n",
      "| -9999  | -9999  | -9999  | -9999  | -9999  | -9999  | -9999  |    1    |    1    |\n",
      "| -9999  | -9999  | -9999  | -9999  | -9999  | -9999  | -9999  |    1    |    1    |\n",
      "| -9999  | -9999  | -9999  | -9999  | -9999  | -9999  | -9999  |    1    |    1    |\n",
      "| -9999  | -9999  | -9999  | -9999  | -9999  | -9999  | -9999  |    1    |    1    |\n",
      "| -9999  | -9999  | -9999  | -9999  | -9999  | -9999  | -9999  |    1    |    1    |\n",
      "| -9999  | -9999  | -9999  | -9999  | -9999  | -9999  | -9999  |    1    |    1    |\n",
      "| -9999  | -9999  | -9999  | -9999  | -9999  | -9999  | -9999  |   894   |    1    |\n",
      "| -9999  | -9999  | -9999  | -9999  | -9999  | -9999  | -9999  |   503   |    1    |\n",
      "| -9999  | -9999  | -9999  | -9999  | -9999  | -9999  | -9999  |   269   |    1    |\n",
      "| -9999  | -9999  | -9999  | -9999  | -9999  | -9999  | -9999  |    1    |    1    |\n",
      "| -9999  | -9999  | -9999  | -9999  | -9999  | -9999  | -9999  |   264   |    1    |\n",
      "| -9999  | -9999  | -9999  | -9999  | -9999  | -9999  | -9999  |    1    |    1    |\n",
      "| -9999  | -9999  | -9999  | -9999  | -9999  | -9999  | -9999  |   1341  |    1    |\n",
      "| -9999  | -9999  | -9999  | -9999  | -9999  | -9999  | -9999  |   114   |    1    |\n",
      "| -9999  | -9999  | -9999  | -9999  | -9999  | -9999  | -9999  |   1341  |    1    |\n",
      "| -9999  | -9999  | -9999  | -9999  | -9999  | -9999  | -9999  |   5493  |    1    |\n",
      "| -9999  | -9999  | -9999  | -9999  | -9999  | -9999  | -9999  |   5493  |    1    |\n",
      "| -9999  | -9999  | -9999  | -9999  | -9999  | -9999  | -9999  |   5493  |    1    |\n",
      "| -9999  | -9999  | -9999  | -9999  | -9999  | -9999  | -9999  |   5493  |    1    |\n",
      "| -9999  | -9999  | -9999  | -9999  | -9999  | -9999  | -9999  |   5493  |    1    |\n",
      "+--------+--------+--------+--------+--------+--------+--------+---------+---------+\n",
      "[2197291 rows x 15 columns]\n",
      "\n"
     ]
    }
   ],
   "source": [
    "# convert dataframe to sframe\n",
    "sf_act_train = gl.SFrame(df_act_train)\n",
    "sf_act_train.print_rows(num_rows=50)"
   ]
  },
  {
   "cell_type": "code",
   "execution_count": 33,
   "metadata": {
    "collapsed": false
   },
   "outputs": [
    {
     "name": "stdout",
     "output_type": "stream",
     "text": [
      "PROGRESS: Creating a validation set from 5 percent of training data. This may take a while.\n",
      "          You can set ``validation_set=None`` to disable validation tracking.\n",
      "\n"
     ]
    },
    {
     "data": {
      "text/html": [
       "<pre>Random forest classifier:</pre>"
      ],
      "text/plain": [
       "Random forest classifier:"
      ]
     },
     "metadata": {},
     "output_type": "display_data"
    },
    {
     "data": {
      "text/html": [
       "<pre>--------------------------------------------------------</pre>"
      ],
      "text/plain": [
       "--------------------------------------------------------"
      ]
     },
     "metadata": {},
     "output_type": "display_data"
    },
    {
     "data": {
      "text/html": [
       "<pre>Number of examples          : 2087081</pre>"
      ],
      "text/plain": [
       "Number of examples          : 2087081"
      ]
     },
     "metadata": {},
     "output_type": "display_data"
    },
    {
     "data": {
      "text/html": [
       "<pre>Number of classes           : 2</pre>"
      ],
      "text/plain": [
       "Number of classes           : 2"
      ]
     },
     "metadata": {},
     "output_type": "display_data"
    },
    {
     "data": {
      "text/html": [
       "<pre>Number of feature columns   : 14</pre>"
      ],
      "text/plain": [
       "Number of feature columns   : 14"
      ]
     },
     "metadata": {},
     "output_type": "display_data"
    },
    {
     "data": {
      "text/html": [
       "<pre>Number of unpacked features : 14</pre>"
      ],
      "text/plain": [
       "Number of unpacked features : 14"
      ]
     },
     "metadata": {},
     "output_type": "display_data"
    },
    {
     "data": {
      "text/html": [
       "<pre>+-----------+--------------+-------------------+---------------------+-------------------+---------------------+</pre>"
      ],
      "text/plain": [
       "+-----------+--------------+-------------------+---------------------+-------------------+---------------------+"
      ]
     },
     "metadata": {},
     "output_type": "display_data"
    },
    {
     "data": {
      "text/html": [
       "<pre>| Iteration | Elapsed Time | Training-accuracy | Validation-accuracy | Training-log_loss | Validation-log_loss |</pre>"
      ],
      "text/plain": [
       "| Iteration | Elapsed Time | Training-accuracy | Validation-accuracy | Training-log_loss | Validation-log_loss |"
      ]
     },
     "metadata": {},
     "output_type": "display_data"
    },
    {
     "data": {
      "text/html": [
       "<pre>+-----------+--------------+-------------------+---------------------+-------------------+---------------------+</pre>"
      ],
      "text/plain": [
       "+-----------+--------------+-------------------+---------------------+-------------------+---------------------+"
      ]
     },
     "metadata": {},
     "output_type": "display_data"
    },
    {
     "data": {
      "text/html": [
       "<pre>| 1         | 41.519988    | 0.958476          | 0.890083            | 0.252002          | 0.332164            |</pre>"
      ],
      "text/plain": [
       "| 1         | 41.519988    | 0.958476          | 0.890083            | 0.252002          | 0.332164            |"
      ]
     },
     "metadata": {},
     "output_type": "display_data"
    },
    {
     "data": {
      "text/html": [
       "<pre>| 2         | 91.096565    | 0.947188          | 0.876654            | 0.242405          | 0.330022            |</pre>"
      ],
      "text/plain": [
       "| 2         | 91.096565    | 0.947188          | 0.876654            | 0.242405          | 0.330022            |"
      ]
     },
     "metadata": {},
     "output_type": "display_data"
    },
    {
     "data": {
      "text/html": [
       "<pre>| 3         | 146.276052   | 0.959100          | 0.881082            | 0.238382          | 0.328617            |</pre>"
      ],
      "text/plain": [
       "| 3         | 146.276052   | 0.959100          | 0.881082            | 0.238382          | 0.328617            |"
      ]
     },
     "metadata": {},
     "output_type": "display_data"
    },
    {
     "data": {
      "text/html": [
       "<pre>| 4         | 199.867483   | 0.964906          | 0.886680            | 0.235665          | 0.324760            |</pre>"
      ],
      "text/plain": [
       "| 4         | 199.867483   | 0.964906          | 0.886680            | 0.235665          | 0.324760            |"
      ]
     },
     "metadata": {},
     "output_type": "display_data"
    },
    {
     "data": {
      "text/html": [
       "<pre>| 5         | 265.913326   | 0.969026          | 0.890845            | 0.234848          | 0.324571            |</pre>"
      ],
      "text/plain": [
       "| 5         | 265.913326   | 0.969026          | 0.890845            | 0.234848          | 0.324571            |"
      ]
     },
     "metadata": {},
     "output_type": "display_data"
    },
    {
     "data": {
      "text/html": [
       "<pre>| 6         | 318.632961   | 0.971219          | 0.890028            | 0.234101          | 0.324401            |</pre>"
      ],
      "text/plain": [
       "| 6         | 318.632961   | 0.971219          | 0.890028            | 0.234101          | 0.324401            |"
      ]
     },
     "metadata": {},
     "output_type": "display_data"
    },
    {
     "data": {
      "text/html": [
       "<pre>| 7         | 364.644287   | 0.970439          | 0.891943            | 0.233806          | 0.321174            |</pre>"
      ],
      "text/plain": [
       "| 7         | 364.644287   | 0.970439          | 0.891943            | 0.233806          | 0.321174            |"
      ]
     },
     "metadata": {},
     "output_type": "display_data"
    },
    {
     "data": {
      "text/html": [
       "<pre>| 8         | 415.354728   | 0.970727          | 0.891516            | 0.233374          | 0.321348            |</pre>"
      ],
      "text/plain": [
       "| 8         | 415.354728   | 0.970727          | 0.891516            | 0.233374          | 0.321348            |"
      ]
     },
     "metadata": {},
     "output_type": "display_data"
    },
    {
     "data": {
      "text/html": [
       "<pre>| 9         | 466.603361   | 0.970580          | 0.892278            | 0.233322          | 0.319598            |</pre>"
      ],
      "text/plain": [
       "| 9         | 466.603361   | 0.970580          | 0.892278            | 0.233322          | 0.319598            |"
      ]
     },
     "metadata": {},
     "output_type": "display_data"
    },
    {
     "data": {
      "text/html": [
       "<pre>| 10        | 550.777407   | 0.972166          | 0.892061            | 0.247089          | 0.334533            |</pre>"
      ],
      "text/plain": [
       "| 10        | 550.777407   | 0.972166          | 0.892061            | 0.247089          | 0.334533            |"
      ]
     },
     "metadata": {},
     "output_type": "display_data"
    },
    {
     "data": {
      "text/html": [
       "<pre>+-----------+--------------+-------------------+---------------------+-------------------+---------------------+</pre>"
      ],
      "text/plain": [
       "+-----------+--------------+-------------------+---------------------+-------------------+---------------------+"
      ]
     },
     "metadata": {},
     "output_type": "display_data"
    }
   ],
   "source": [
    "model = gl.random_forest_classifier.create(sf_act_train, target='outcome',\n",
    "                                           max_iterations=10, max_depth = 300)"
   ]
  },
  {
   "cell_type": "code",
   "execution_count": null,
   "metadata": {
    "collapsed": true
   },
   "outputs": [],
   "source": []
  }
 ],
 "metadata": {
  "anaconda-cloud": {},
  "kernelspec": {
   "display_name": "Python [Root]",
   "language": "python",
   "name": "Python [Root]"
  },
  "language_info": {
   "codemirror_mode": {
    "name": "ipython",
    "version": 2
   },
   "file_extension": ".py",
   "mimetype": "text/x-python",
   "name": "python",
   "nbconvert_exporter": "python",
   "pygments_lexer": "ipython2",
   "version": "2.7.12"
  }
 },
 "nbformat": 4,
 "nbformat_minor": 0
}
